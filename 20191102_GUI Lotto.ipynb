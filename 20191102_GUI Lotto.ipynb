{
 "cells": [
  {
   "cell_type": "markdown",
   "metadata": {},
   "source": [
    "# ロト番号抽選機を製作\n",
    "\n",
    "-ボタン1を押すと、抽選関数実行.\n",
    "\n",
    "-関数は、ロット宝くじの番号六つ(1~45範囲で重複された数字なしに6個)を引抜き.\n",
    "\n",
    "-ボタン2を押すと2等番号の抽選関数実行.\n",
    "\n",
    "-2等番号はボタン1で選ばれた6校を除いた1~45の番号の一つを追加で抽選する.\n",
    "\n",
    "-全ての結果はレーベルで出力する.\n",
    "\n",
    "-出力ウィンドウの上にはラベルで、\"当せん番号\"、\"2等ボーナス番号\"のようにどんな数字が出るか予め位置が表示されている"
   ]
  },
  {
   "cell_type": "code",
   "execution_count": 19,
   "metadata": {},
   "outputs": [],
   "source": [
    "# Python GUI プログラミングのためのライブラリ tkinter Import\n",
    "from tkinter import *\n",
    "\n",
    "#ロト抽選のための乱数発生\n",
    "import random\n",
    "\n",
    "# 下段のrootという変数がまさに私たちの知っている窓になる.\n",
    "root = Tk()"
   ]
  },
  {
   "cell_type": "code",
   "execution_count": 20,
   "metadata": {},
   "outputs": [],
   "source": [
    "# 窓サイズの調節やタイトル変更\n",
    "root.title(\"ロト宝くじ番号抽選\")\n",
    "root.configure(width=\"80m\", height=\"70m\")"
   ]
  },
  {
   "cell_type": "code",
   "execution_count": 21,
   "metadata": {},
   "outputs": [],
   "source": [
    "# 全域変数\n",
    "lottonum=[]\n",
    "lotto_count = 0"
   ]
  },
  {
   "cell_type": "code",
   "execution_count": 22,
   "metadata": {},
   "outputs": [],
   "source": [
    "def get_lotto():\n",
    "    global lottonum, lotto_count\n",
    "    lottonum.clear()\n",
    "    while len(lottonum) != 6:\n",
    "        number = random.randint(1, 45)\n",
    "        if number not in lottonum:\n",
    "            lottonum.append(number)\n",
    "            lotto_count += 1\n",
    "    lottonum.sort()\n",
    "    if lotto_count >= 1:\n",
    "        Lb2 = Label(root)\n",
    "        Lb2.place(x=150, y=80, width=150, height=30)\n",
    "    Lb1 = Label(root, text=lottonum)\n",
    "    Lb1.place(x=1, y=80, width=150, height=30)"
   ]
  },
  {
   "cell_type": "code",
   "execution_count": 23,
   "metadata": {},
   "outputs": [],
   "source": [
    "def get_bonus():\n",
    "    global lottonum\n",
    "    if len(lottonum) != 6:\n",
    "        get_lotto()\n",
    "    number = random.randint(1, 45)\n",
    "    while number in lottonum:\n",
    "        number = random.randint(1, 45)\n",
    "    Lb2 = Label(root, text=str(number))\n",
    "    Lb2.place(x=150, y=80, width=100, height=30)\n",
    "    \n",
    "#     global lottonum\n",
    "#     if len(lottonum) == 0:\n",
    "#         Lb2 = Label(root, text=\"抽選からしてください.\")\n",
    "#         Lb2.place(x=150, y=80, width=110, height=30)\n",
    "#     else: # return を使用してもよい.\n",
    "#         number = random.randint(1,45)\n",
    "#         while number in lottonum:\n",
    "#             number = random.randint(1, 45)\n",
    "#         Lb2 = Label(root, text=str(number))\n",
    "#         Lb2.place(x=150, y=80, width=110, height=30)"
   ]
  },
  {
   "cell_type": "code",
   "execution_count": 24,
   "metadata": {},
   "outputs": [],
   "source": [
    "# ボタン配置\n",
    "Bt1 = Button(root, text=\"番号抽選\", command=get_lotto)\n",
    "Bt1.place(x=10, y=10, width=100, height=30)\n",
    "\n",
    "Bt2 = Button(root, text=\"ボーナス番号抽選\", command=get_bonus)\n",
    "Bt2.place(x=130, y=10, width=100, height=30)"
   ]
  },
  {
   "cell_type": "code",
   "execution_count": 25,
   "metadata": {},
   "outputs": [],
   "source": [
    "# 制作者 ラベル\n",
    "Lb3 = Label(root, text=\"<制作者 : イジェフン>\")\n",
    "Lb3.place(x=180, y=220, width=120, height=30)\n",
    "\n",
    "# 案内 ラベル\n",
    "Lb4 = Label(root, text=\"<ロット宝くじの番号6個>\")\n",
    "Lb4.place(x=1, y=50, width=150, height=30)\n",
    "\n",
    "Lb5 = Label(root, text=\"<ボーナス番号>\")\n",
    "Lb5.place(x=160, y=50, width=100, height=30)"
   ]
  },
  {
   "cell_type": "code",
   "execution_count": 26,
   "metadata": {},
   "outputs": [],
   "source": [
    "root.mainloop()"
   ]
  },
  {
   "cell_type": "code",
   "execution_count": 27,
   "metadata": {},
   "outputs": [
    {
     "name": "stdout",
     "output_type": "stream",
     "text": [
      "[3, 21, 25, 26, 37, 42]\n"
     ]
    }
   ],
   "source": [
    "# 番号6の抽選\n",
    "\n",
    "# 乱数発生ライブラリ(Python)\n",
    "import random\n",
    "\n",
    "# 乱数発生random.randint(始め、終わり)\n",
    "random.randint(1, 45)\n",
    "\n",
    "# 乱数番号を盛り込むリスト\n",
    "lottonum=[]\n",
    "\n",
    "# 乱数6個が必要だ。 ただし、重複した数字で出力されてはいけない\n",
    "while len(lottonum) != 6:\n",
    "    number = random.randint(1, 45)\n",
    "    if number not in lottonum:\n",
    "        lottonum.append(number)\n",
    "lottonum.sort()\n",
    "print(lottonum)"
   ]
  }
 ],
 "metadata": {
  "kernelspec": {
   "display_name": "Python 3",
   "language": "python",
   "name": "python3"
  },
  "language_info": {
   "codemirror_mode": {
    "name": "ipython",
    "version": 3
   },
   "file_extension": ".py",
   "mimetype": "text/x-python",
   "name": "python",
   "nbconvert_exporter": "python",
   "pygments_lexer": "ipython3",
   "version": "3.7.3"
  }
 },
 "nbformat": 4,
 "nbformat_minor": 2
}
