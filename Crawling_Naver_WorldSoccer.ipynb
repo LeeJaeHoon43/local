{
 "cells": [
  {
   "cell_type": "markdown",
   "metadata": {},
   "source": [
    "# スポーツニュース記事Crawling\n",
    "\n",
    "- ニュース記事のCrawlingは一般的なCrawlingとは違ってcrawlerが二つ必要です.\n",
    "- 記事住所をもらってくる crawler 一つと記事住所をもらってきたときに貰った住所を繰り返す crawler 一つが必要です.\n",
    "- まず記事のアドレスを持ってくる crawler を作る.\n",
    "- リンクアドレスは概ねa Tag内部のhref=\"\"という属性に入っている.\n",
    "- このアドレスを持ってくるには .text を使わない."
   ]
  },
  {
   "cell_type": "code",
   "execution_count": 3,
   "metadata": {},
   "outputs": [],
   "source": [
    "# ライブラリインポート\n",
    "from selenium import webdriver\n",
    "from bs4 import BeautifulSoup\n",
    "import time\n",
    "import codecs"
   ]
  },
  {
   "cell_type": "markdown",
   "metadata": {},
   "source": [
    "## リンクアドレスCrawlerを製作\n",
    "\n",
    "- 日付と最後のページを入力すると、該当日付にアップロードされた記事アドレスが確認できる。\n",
    "- アドレスの場合、すべての経路が書かれていないので、この部分を注意して保存しなければなりません。\n",
    "- Naver記事の場合、アドレスを持って来たリンクどおりに使用すると移動できません。\n",
    "- 1. アドレスの前の部分にhttps://sports.news.naver.comを追加でコピーして貼ってくれなきゃいけないし\n",
    "- 2. リンクアドレス内の;を&に変えなければなりません。"
   ]
  },
  {
   "cell_type": "code",
   "execution_count": 4,
   "metadata": {},
   "outputs": [
    {
     "name": "stdout",
     "output_type": "stream",
     "text": [
      "277\n"
     ]
    }
   ],
   "source": [
    "# Chromedriverのセッティング.\n",
    "driver = webdriver.Chrome(\"C:/Users/dltjs/Data20190921/day3/chromedriver.exe\")\n",
    "\n",
    "# urlを保存するための空いているリスト.\n",
    "urls = []\n",
    "\n",
    "for i in range(1, 15):\n",
    "    # 入力した日付のページに移動\n",
    "    driver.get(\"https://sports.news.naver.com/wfootball/news/index.nhn?page=\"+str(i)+\"&date=20190929&isphoto=N\")\n",
    "    time.sleep(2)\n",
    "    \n",
    "    # ソースコードを持ってくる\n",
    "    source = driver.page_source\n",
    "    \n",
    "    # parsing\n",
    "    s1 = BeautifulSoup(source, \"html.parser\")\n",
    "\n",
    "    s_articles = s1.find_all(\"div\", class_=\"content_area\")\n",
    "\n",
    "    a_tag = s_articles[0].find_all(\"a\", class_=\"title\")\n",
    "\n",
    "    for item in a_tag:\n",
    "        atag_url = str(item).split('\" onclick')[0].split('href=\"')[1].replace(\";\", \"&\")\n",
    "        link_url = \"https://sports.news.naver.com\" + atag_url\n",
    "        urls.append(link_url)\n",
    "print(len(urls))\n",
    "driver.close()"
   ]
  },
  {
   "cell_type": "markdown",
   "metadata": {},
   "source": [
    "### ニュース記事収集Crawler\n",
    "\n",
    "- urlsに保存されたアドレスを利用して各記事別のページに移動.\n",
    "- 移動したページにある記事本文をtxtファイルに保存."
   ]
  },
  {
   "cell_type": "code",
   "execution_count": 5,
   "metadata": {},
   "outputs": [],
   "source": [
    "# Chromedriverのセッティング\n",
    "driver = webdriver.Chrome(\"C:/Users/dltjs/Data20190921/day3/chromedriver.exe\")\n",
    "\n",
    "# textファイルに保存できるように、そしてurlsに収集された記事のアドレス通り巡回できるようにする。\n",
    "f = codecs.open(\"C:/Users/dltjs/Data20190921/day4/result6.txt\", encoding=\"utf-8\", mode='w')\n",
    "for url in urls:\n",
    "    driver.get(url)\n",
    "    time.sleep(2)\n",
    "    source = driver.page_source\n",
    "\n",
    "    s1 = BeautifulSoup(source, \"html.parser\")\n",
    "\n",
    "    article = s1.find_all('div', class_='news_end font1 size3')\n",
    "\n",
    "    f.write(article[0].text.strip()+\"\\r\\n\")\n",
    "    f.write(\"=\"*80 + \"\\r\\n\")\n",
    "f.close()\n",
    "driver.close()"
   ]
  }
 ],
 "metadata": {
  "kernelspec": {
   "display_name": "Python 3",
   "language": "python",
   "name": "python3"
  },
  "language_info": {
   "codemirror_mode": {
    "name": "ipython",
    "version": 3
   },
   "file_extension": ".py",
   "mimetype": "text/x-python",
   "name": "python",
   "nbconvert_exporter": "python",
   "pygments_lexer": "ipython3",
   "version": "3.7.3"
  }
 },
 "nbformat": 4,
 "nbformat_minor": 2
}
