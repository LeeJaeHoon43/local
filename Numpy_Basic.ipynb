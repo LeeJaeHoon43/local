{
 "cells": [
  {
   "cell_type": "markdown",
   "metadata": {},
   "source": [
    "# Numpy\n",
    "\n",
    "- Numeriacal Python\n",
    "\n",
    "- Python Machine Running Package scikit-learnで基本データ構造として使用され、Numpy配列形態のデータを使用する.\n",
    "\n",
    "- Pythonベースのデータ分析環境において、行列およびVector演算に必要な様々な関数を提供する.\n",
    "\n",
    "- メモリー消耗の多い繰り返しなしに全体データ配列に速い演算を処理できる標準数学関数.\n",
    "\n",
    "- 配列 : 同じ特性(データタイプ)および一定のルールを持つ複数の要素が並んでいるデータ集合.\n",
    "\n",
    "- Python listオブジェクトを使用する際、よりNumpyのndarrayオブジェクトを使用すれば、演算速度が改善され、より多くのデータをもっと速く処理することができる."
   ]
  },
  {
   "cell_type": "code",
   "execution_count": 1,
   "metadata": {},
   "outputs": [],
   "source": [
    "#ライブラリインポート : Numpy\n",
    "#asというニックネームを宣言した後は、ニックネームで該当ライブラリの機能を使うことができる.\n",
    "import numpy \n",
    "import numpy as np "
   ]
  },
  {
   "cell_type": "code",
   "execution_count": 2,
   "metadata": {},
   "outputs": [
    {
     "data": {
      "text/plain": [
       "'1.16.4'"
      ]
     },
     "execution_count": 2,
     "metadata": {},
     "output_type": "execute_result"
    }
   ],
   "source": [
    "#ライブラリVersionを確認\n",
    "np.__version__"
   ]
  },
  {
   "cell_type": "markdown",
   "metadata": {},
   "source": [
    "## Numpy配列 : numpy.ndarray\n",
    "\n",
    "- 多次元配列(1次元、2次元、3次元)で立体的なデータ構造を構成して複数のデータ方向性を持っている.\n",
    "\n",
    "- 配列属性 : shape, ndim, dtype など\n",
    "\n",
    "- データ方向:axis=0(行/高さ)、1(列/幅)、2(チャンネル/深さ)\n",
    "\n",
    "- 写真を入れるときはimg tagを使います。\n",
    "\n",
    "\n",
    "\n",
    "<img src='img/nparr1.jpg' width='600' height='400' align='left'>"
   ]
  },
  {
   "cell_type": "markdown",
   "metadata": {},
   "source": [
    "### 1.配列生成\n",
    "\n",
    "- np.array(data)\n",
    "\n",
    "- Python listオブジェクトを受け取ってnumpy listに交換してくれるコマンド\n",
    "\n",
    "- 配列属性\n",
    "    - shape:構造(行、列、次元)\n",
    "    - ndim: 次元\n",
    "    - dtype: データタイプ\n",
    "    - size: 要素個数 = 行 * 列 *次元\n",
    "\n",
    "- 配列Method\n",
    "    - astype():データタイプ変換(文字を数字でとか...)\n",
    "\n",
    "- Python内蔵関数を使った属性値\n",
    "    - type() : オブジェクトの資料型確認\n",
    "    - len():要素内部の資料の長さ\n",
    "\n",
    "- Numpy関数を使った属性\n",
    "    -reshape(row、column):配列の再配置(1*12を3*4の形に変えたり...)\n",
    "\n",
    "- kind:データ種類に対する区分記号\n",
    "    - b: boolean\n",
    "    - i : 整数(int)\n",
    "    -:符号のない整数(unsigned int, +-概念がなく、絶対値だけが存在する。)\n",
    "    - f : 間違い\n",
    "    - c: 複素浮動小数点\n",
    "    - O:オブジェクト\n",
    "    - S:バイト文字列(asciiコード,英文字,一部特文,数字)\n",
    "    - U:ユニコード文字列(韓国語,日本語,中国語,タイ語,アラビア語など英語ではない文字)"
   ]
  },
  {
   "cell_type": "code",
   "execution_count": 3,
   "metadata": {},
   "outputs": [
    {
     "data": {
      "text/plain": [
       "array([1, 2, 3, 4, 5, 6])"
      ]
     },
     "execution_count": 3,
     "metadata": {},
     "output_type": "execute_result"
    }
   ],
   "source": [
    "#.Python 1次元のリストをNumpyに交換.\n",
    "tmp = [1,2,3,4,5,6]\n",
    "arr = np.array(tmp)\n",
    "arr"
   ]
  },
  {
   "cell_type": "code",
   "execution_count": 4,
   "metadata": {},
   "outputs": [
    {
     "name": "stdout",
     "output_type": "stream",
     "text": [
      "<class 'numpy.ndarray'> <class 'list'>\n"
     ]
    }
   ],
   "source": [
    "# 配列オブジェクトの属性 - タイプ(資料型)\n",
    "print(type(arr), type(tmp))"
   ]
  },
  {
   "cell_type": "code",
   "execution_count": 5,
   "metadata": {},
   "outputs": [
    {
     "data": {
      "text/plain": [
       "(6,)"
      ]
     },
     "execution_count": 5,
     "metadata": {},
     "output_type": "execute_result"
    }
   ],
   "source": [
    "# 配列オブジェクトの属性 - 構造確認:shape(横)、列(縦)、次元(面)\n",
    "# (定数, ) : 定数の個数のアイテムを持つリストが配列に変換された結果物\n",
    "arr.shape"
   ]
  },
  {
   "cell_type": "code",
   "execution_count": 6,
   "metadata": {},
   "outputs": [
    {
     "data": {
      "text/plain": [
       "6"
      ]
     },
     "execution_count": 6,
     "metadata": {},
     "output_type": "execute_result"
    }
   ],
   "source": [
    "# 配列オブジェクトの属性-長さ=>(n、)[1D array]:アイテムの個数\n",
    "len(arr)"
   ]
  },
  {
   "cell_type": "code",
   "execution_count": 7,
   "metadata": {},
   "outputs": [
    {
     "data": {
      "text/plain": [
       "1"
      ]
     },
     "execution_count": 7,
     "metadata": {},
     "output_type": "execute_result"
    }
   ],
   "source": [
    "# 配列オブジェクトの属性 -次元\n",
    "arr.ndim"
   ]
  },
  {
   "cell_type": "code",
   "execution_count": 14,
   "metadata": {},
   "outputs": [
    {
     "data": {
      "text/plain": [
       "6"
      ]
     },
     "execution_count": 14,
     "metadata": {},
     "output_type": "execute_result"
    }
   ],
   "source": [
    "# 配列要素の属性 -要素の数\n",
    "arr.size"
   ]
  },
  {
   "cell_type": "code",
   "execution_count": 8,
   "metadata": {},
   "outputs": [
    {
     "data": {
      "text/plain": [
       "dtype('int32')"
      ]
     },
     "execution_count": 8,
     "metadata": {},
     "output_type": "execute_result"
    }
   ],
   "source": [
    "# 配列オブジェクトの属性 - データタイプ\n",
    "arr.dtype"
   ]
  },
  {
   "cell_type": "code",
   "execution_count": 10,
   "metadata": {},
   "outputs": [],
   "source": [
    "# 配列オブジェクトの属性 - データタイプ変換 : astype => 原本データ保持\n",
    "arr2 = arr.astype(float)"
   ]
  },
  {
   "cell_type": "code",
   "execution_count": 11,
   "metadata": {},
   "outputs": [
    {
     "name": "stdout",
     "output_type": "stream",
     "text": [
      "int32 float64\n"
     ]
    }
   ],
   "source": [
    "print(arr.dtype, arr2.dtype)"
   ]
  },
  {
   "cell_type": "code",
   "execution_count": 12,
   "metadata": {},
   "outputs": [
    {
     "data": {
      "text/plain": [
       "array([[1, 2, 3],\n",
       "       [4, 5, 6]])"
      ]
     },
     "execution_count": 12,
     "metadata": {},
     "output_type": "execute_result"
    }
   ],
   "source": [
    "# 配列構造変換\n",
    "# 基本配列の要素の数と変換しようとする構造の数は同じでなければならない。\n",
    "arr.reshape(2,3) # (2*3が6なので)可能、reshape(縦の長さ、横の長さ)"
   ]
  },
  {
   "cell_type": "code",
   "execution_count": 13,
   "metadata": {},
   "outputs": [],
   "source": [
    "# Numpyオブジェクト情報をより楽に確認するためのユーザ関数定義\n",
    "# オブジェクトタイプ、構造、次元、データタイプ、内部資料を確認するために定義する関数\n",
    "def np_print(arr):\n",
    "    text = '''\n",
    "    type : {}\n",
    "    shape : {}\n",
    "    ndim : {}\n",
    "    dtype : {}\n",
    "    array data : \\n {}'''.format(type(arr), arr.shape, arr.ndim, arr.dtype, arr)\n",
    "    print(text)"
   ]
  },
  {
   "cell_type": "code",
   "execution_count": 14,
   "metadata": {},
   "outputs": [
    {
     "name": "stdout",
     "output_type": "stream",
     "text": [
      "\n",
      "    type : <class 'numpy.ndarray'>\n",
      "    shape : (4,)\n",
      "    ndim : 1\n",
      "    dtype : <U11\n",
      "    array data : \n",
      " ['1' '2' '3' '4']\n"
     ]
    }
   ],
   "source": [
    "# リスト要素タイプが一貫していないと、優先順位によって全体dtypeが統一される.\n",
    "# 優先順位:str(一番高い) > float > int(一番低い)\n",
    "# 他のタイプの混合1:int+str=str\n",
    "tmp = [1,2,3,\"4\"]\n",
    "arr1 = np.array(tmp)\n",
    "np_print(arr1)"
   ]
  },
  {
   "cell_type": "code",
   "execution_count": 16,
   "metadata": {},
   "outputs": [
    {
     "name": "stdout",
     "output_type": "stream",
     "text": [
      "\n",
      "    type : <class 'numpy.ndarray'>\n",
      "    shape : (4,)\n",
      "    ndim : 1\n",
      "    dtype : float64\n",
      "    array data : \n",
      " [1.  2.  3.3 4. ]\n"
     ]
    }
   ],
   "source": [
    "# 他のタイプ混合2 : int+float=float\n",
    "tmp = [1,2,3.3,4]\n",
    "arr = np.array(tmp)\n",
    "np_print(arr)"
   ]
  },
  {
   "cell_type": "code",
   "execution_count": 17,
   "metadata": {},
   "outputs": [
    {
     "name": "stdout",
     "output_type": "stream",
     "text": [
      "\n",
      "    type : <class 'numpy.ndarray'>\n",
      "    shape : (3,)\n",
      "    ndim : 1\n",
      "    dtype : <U3\n",
      "    array data : \n",
      " ['1' '1.2' '0.3']\n"
     ]
    }
   ],
   "source": [
    "# 他のタイプ混合3 : float + str = str\n",
    "tmp = ['1',1.2,0.3]\n",
    "arr1 = np.array(tmp)\n",
    "np_print(arr1)"
   ]
  },
  {
   "cell_type": "code",
   "execution_count": 20,
   "metadata": {},
   "outputs": [
    {
     "name": "stdout",
     "output_type": "stream",
     "text": [
      "\n",
      "    type : <class 'numpy.ndarray'>\n",
      "    shape : (2, 4)\n",
      "    ndim : 2\n",
      "    dtype : int32\n",
      "    array data : \n",
      " [[1 2 3 4]\n",
      " [5 6 7 8]]\n"
     ]
    }
   ],
   "source": [
    "# Python 2次元リストでNumpy配列生成\n",
    "# 2次元配列のshape属性は(行(縦の長さ)、列(横の長さ)だけ返還。\n",
    "tmp = [[1,2,3,4],[5,6,7,8]]\n",
    "arr = np.array(tmp)\n",
    "np_print(arr)"
   ]
  },
  {
   "cell_type": "code",
   "execution_count": 21,
   "metadata": {},
   "outputs": [
    {
     "name": "stdout",
     "output_type": "stream",
     "text": [
      "\n",
      "    type : <class 'numpy.ndarray'>\n",
      "    shape : (2, 2, 3)\n",
      "    ndim : 3\n",
      "    dtype : int32\n",
      "    array data : \n",
      " [[[ 1  2  3]\n",
      "  [ 4  5  6]]\n",
      "\n",
      " [[ 7  8  9]\n",
      "  [10 11 12]]]\n"
     ]
    }
   ],
   "source": [
    "# Python 3次元リストでnumpy配列生成\n",
    "tmp = [[[1,2,3],[4,5,6]],[[7,8,9],[10,11,12]]]\n",
    "arr = np.array(tmp)\n",
    "np_print(arr)"
   ]
  },
  {
   "cell_type": "code",
   "execution_count": 22,
   "metadata": {},
   "outputs": [
    {
     "name": "stdout",
     "output_type": "stream",
     "text": [
      "\n",
      "    type : <class 'numpy.ndarray'>\n",
      "    shape : (2, 2, 3)\n",
      "    ndim : 3\n",
      "    dtype : float64\n",
      "    array data : \n",
      " [[[ 1.  2.  3.]\n",
      "  [ 4.  5.  6.]]\n",
      "\n",
      " [[ 7.  8.  9.]\n",
      "  [10. 11. 12.]]]\n"
     ]
    }
   ],
   "source": [
    "# データファイルをparameterに指定してNumpy配列タイプの属性を変えることができる.\n",
    "# np.array(data, dtype=\"資料型\")\n",
    "tmp = [[[1,2,3],[4,5,6]],[[7,8,9],[10,11,12]]]\n",
    "arr = np.array(tmp, dtype=float)\n",
    "np_print(arr)"
   ]
  },
  {
   "cell_type": "markdown",
   "metadata": {},
   "source": [
    "### 生成および初期化\n",
    "\n",
    "- 1.初期値を指定してデータを自動的に持つ配列を生成\n",
    "\n",
    "    - np.zeros()\n",
    "    - np.ones()\n",
    "    - np.full()\n",
    "    - np.eye()\n",
    "    - np.empty()"
   ]
  },
  {
   "cell_type": "markdown",
   "metadata": {},
   "source": [
    "#### 1-1.np.zeros(shape(形)、dtype=float)\n",
    "\n",
    "- 指定された構造の配列を生成し、すべての要素を0に初期化(zeros)\n",
    "- shape: tuple形式で行、列を指定\n",
    "- dtype:配列で使用するデータタイプを指定,基本はnumpy.float64"
   ]
  },
  {
   "cell_type": "code",
   "execution_count": 24,
   "metadata": {},
   "outputs": [
    {
     "name": "stdout",
     "output_type": "stream",
     "text": [
      "\n",
      "    type : <class 'numpy.ndarray'>\n",
      "    shape : (3, 4)\n",
      "    ndim : 2\n",
      "    dtype : float64\n",
      "    array data : \n",
      " [[0. 0. 0. 0.]\n",
      " [0. 0. 0. 0.]\n",
      " [0. 0. 0. 0.]]\n"
     ]
    }
   ],
   "source": [
    "# dtypeを指定していない基本(float)で生成.\n",
    "#3*4構造の中にすべての値を0とする.\n",
    "#2次元から構造はTupleにしなければならない.\n",
    "arr = np.zeros((3,4))\n",
    "np_print(arr)"
   ]
  },
  {
   "cell_type": "code",
   "execution_count": 25,
   "metadata": {},
   "outputs": [
    {
     "name": "stdout",
     "output_type": "stream",
     "text": [
      "\n",
      "    type : <class 'numpy.ndarray'>\n",
      "    shape : (3, 4)\n",
      "    ndim : 2\n",
      "    dtype : int32\n",
      "    array data : \n",
      " [[0 0 0 0]\n",
      " [0 0 0 0]\n",
      " [0 0 0 0]]\n"
     ]
    }
   ],
   "source": [
    "# dtypeをintに変えて生成\n",
    "arr = np.zeros((3,4), dtype=int)\n",
    "np_print(arr)"
   ]
  },
  {
   "cell_type": "markdown",
   "metadata": {},
   "source": [
    "#### 1-2.np.ones(shape(行、列)、dtype=float)\n",
    "- 指定された構造の配列を生成し、すべての要素を1に(ones)初期化.\n",
    "- shape: tuple資料で行と列の構造を指定.\n",
    "- dtype:配列のデータタイプを指定,基本 = numpy.float64"
   ]
  },
  {
   "cell_type": "code",
   "execution_count": 26,
   "metadata": {},
   "outputs": [
    {
     "name": "stdout",
     "output_type": "stream",
     "text": [
      "\n",
      "    type : <class 'numpy.ndarray'>\n",
      "    shape : (3, 4)\n",
      "    ndim : 2\n",
      "    dtype : float64\n",
      "    array data : \n",
      " [[1. 1. 1. 1.]\n",
      " [1. 1. 1. 1.]\n",
      " [1. 1. 1. 1.]]\n"
     ]
    }
   ],
   "source": [
    "#3*4構造のなかで、初期化の値をすべて1に持つ配列.\n",
    "arr = np.ones((3, 4))\n",
    "np_print(arr)"
   ]
  },
  {
   "cell_type": "markdown",
   "metadata": {},
   "source": [
    "#### 1-3.np.full(shape、fill_value、dtype=float)\n",
    "- 指定された構造の配列を生成し、全ての要素をfill_value値で初期化\n",
    "- shape: tuple 資料型で行と列の構造を指定\n",
    "- dtype = 配列のデータタイプを指定,デフォルト値 = numpy.float64"
   ]
  },
  {
   "cell_type": "code",
   "execution_count": 28,
   "metadata": {},
   "outputs": [
    {
     "name": "stdout",
     "output_type": "stream",
     "text": [
      "\n",
      "    type : <class 'numpy.ndarray'>\n",
      "    shape : (3, 4)\n",
      "    ndim : 2\n",
      "    dtype : int32\n",
      "    array data : \n",
      " [[5 5 5 5]\n",
      " [5 5 5 5]\n",
      " [5 5 5 5]]\n"
     ]
    }
   ],
   "source": [
    "# 3*4列構造のなかで、初期化価を全て5に持つ配列\n",
    "arr = np.full((3, 4),5)\n",
    "np_print(arr)"
   ]
  },
  {
   "cell_type": "markdown",
   "metadata": {},
   "source": [
    "#### 1-4.np.eye(N、M=None、dtype=float)\n",
    "- N,M)構造の単位行列を生成\n",
    "- M:十数を指定、基本=N\n",
    "- dtype:配列のデータタイプを指定,基本 = numpy.float64"
   ]
  },
  {
   "cell_type": "code",
   "execution_count": 38,
   "metadata": {},
   "outputs": [
    {
     "name": "stdout",
     "output_type": "stream",
     "text": [
      "\n",
      "    type : <class 'numpy.ndarray'>\n",
      "    shape : (3, 3)\n",
      "    ndim : 2\n",
      "    dtype : float64\n",
      "    array data : \n",
      " [[1. 0. 0.]\n",
      " [0. 1. 0.]\n",
      " [0. 0. 1.]]\n"
     ]
    }
   ],
   "source": [
    "# 3*3の単位行列\n",
    "# 縦と横の長さが同じindexに1にして、残りは0だ.\n",
    "arr = np.eye(3)\n",
    "np_print(arr)"
   ]
  },
  {
   "cell_type": "code",
   "execution_count": 42,
   "metadata": {
    "scrolled": false
   },
   "outputs": [
    {
     "name": "stdout",
     "output_type": "stream",
     "text": [
      "\n",
      "    type : <class 'numpy.ndarray'>\n",
      "    shape : (5, 3)\n",
      "    ndim : 2\n",
      "    dtype : float64\n",
      "    array data : \n",
      " [[1. 0. 0.]\n",
      " [0. 1. 0.]\n",
      " [0. 0. 1.]\n",
      " [0. 0. 0.]\n",
      " [0. 0. 0.]]\n"
     ]
    }
   ],
   "source": [
    "arr = np.eye(5,3)\n",
    "np_print(arr)"
   ]
  },
  {
   "cell_type": "code",
   "execution_count": null,
   "metadata": {},
   "outputs": [],
   "source": []
  },
  {
   "cell_type": "code",
   "execution_count": null,
   "metadata": {},
   "outputs": [],
   "source": []
  }
 ],
 "metadata": {
  "kernelspec": {
   "display_name": "Python 3",
   "language": "python",
   "name": "python3"
  },
  "language_info": {
   "codemirror_mode": {
    "name": "ipython",
    "version": 3
   },
   "file_extension": ".py",
   "mimetype": "text/x-python",
   "name": "python",
   "nbconvert_exporter": "python",
   "pygments_lexer": "ipython3",
   "version": "3.7.3"
  }
 },
 "nbformat": 4,
 "nbformat_minor": 2
}
