{
 "cells": [
  {
   "cell_type": "markdown",
   "metadata": {},
   "source": [
    "#### 1-5.np.empty(shape、dtype=float)\n",
    "\n",
    "- 指定された構造の配列を生成し、すべての要素に対する初期化の過程がなく、以前のメモリに保存された値を使用\n",
    "\n",
    "- 配列を生成するのに最も早くて効率的な方法\n",
    "\n",
    "- shape: tuple typeで行と列の構造を指定\n",
    "\n",
    "- dtype:配列のデータタイプを指定,基本 = numpy.float64"
   ]
  },
  {
   "cell_type": "code",
   "execution_count": 2,
   "metadata": {},
   "outputs": [],
   "source": [
    "import numpy as np"
   ]
  },
  {
   "cell_type": "code",
   "execution_count": 3,
   "metadata": {},
   "outputs": [],
   "source": [
    "# np_print()関数の生成\n",
    "# オブジェクトタイプ、構造、次元、データタイプ、オブジェクト\n",
    "def np_print(arr):\n",
    "    text = '''\n",
    "    type : {}\n",
    "    shape : {}\n",
    "    ndim : {}\n",
    "    dtype : {}\n",
    "    array data :\\n {}'''.format(type(arr), arr.shape, arr.ndim, arr.dtype, arr)\n",
    "    print(text)"
   ]
  },
  {
   "cell_type": "code",
   "execution_count": 4,
   "metadata": {},
   "outputs": [
    {
     "name": "stdout",
     "output_type": "stream",
     "text": [
      "\n",
      "    type : <class 'numpy.ndarray'>\n",
      "    shape : (3, 4)\n",
      "    ndim : 2\n",
      "    dtype : float64\n",
      "    array data :\n",
      " [[1.13089701e-311 2.47032823e-322 0.00000000e+000 0.00000000e+000]\n",
      " [1.89146896e-307 5.74084271e+169 5.45216186e-090 5.73900879e+174]\n",
      " [1.00525624e-047 8.84880262e+165 3.99910963e+252 1.46030983e-319]]\n"
     ]
    }
   ],
   "source": [
    "# ただし、直前にメモリに保存された値を使用するためには、同一のshapeの配列を生成しなければならない。\n",
    "# 3*4熱意の構造/初期の値が0.5\n",
    "arr = np.empty((3, 4))\n",
    "np_print(arr)"
   ]
  },
  {
   "cell_type": "markdown",
   "metadata": {},
   "source": [
    "### like関数\n",
    "\n",
    "- 伝達された配列と同一のshapeで初期値を設定して新しい配列を生成\n",
    "\n",
    "- np.zeros_like():初期値を0には配列生成\n",
    "\n",
    "- np.ones_like():初期値を1に持つ配列生成\n",
    "\n",
    "- np.full_like() : 初期値をfill_value値に持つ配列生成"
   ]
  },
  {
   "cell_type": "code",
   "execution_count": 5,
   "metadata": {},
   "outputs": [
    {
     "name": "stdout",
     "output_type": "stream",
     "text": [
      "\n",
      "    type : <class 'numpy.ndarray'>\n",
      "    shape : (2, 3)\n",
      "    ndim : 2\n",
      "    dtype : int32\n",
      "    array data :\n",
      " [[1 2 3]\n",
      " [4 5 6]]\n"
     ]
    }
   ],
   "source": [
    "# ones_like()\n",
    "# 2*3列の構造で1~6の数字で構成された配列\n",
    "data = [[1, 2, 3], [4, 5, 6]]\n",
    "arr1 = np.array(data)\n",
    "np_print(arr1)"
   ]
  },
  {
   "cell_type": "code",
   "execution_count": 6,
   "metadata": {},
   "outputs": [
    {
     "name": "stdout",
     "output_type": "stream",
     "text": [
      "\n",
      "    type : <class 'numpy.ndarray'>\n",
      "    shape : (2, 3)\n",
      "    ndim : 2\n",
      "    dtype : int32\n",
      "    array data :\n",
      " [[1 1 1]\n",
      " [1 1 1]]\n"
     ]
    }
   ],
   "source": [
    "arr2 = np.ones_like(arr1)\n",
    "np_print(arr2)"
   ]
  },
  {
   "cell_type": "markdown",
   "metadata": {},
   "source": [
    "## 2. 配列の生成と初期化\n",
    "\n",
    "2.範囲と条件があるデータを持つ1次元配列生成\n",
    "    - np.linspace()\n",
    "\n",
    "    - np.arange()\n",
    "\n",
    "    - np.logspace()\n",
    "\n",
    "### 2-1.np.linspace(start、stop、num=50、endpoint=True、retstep=False、dtype=None)\n",
    "\n",
    "- スタート値(start)から最後の値(stop)の間の範囲で均等な間隔で一定個数(num)のデータを持つ配列生成\n",
    "\n",
    "- num:データの数、基本=50\n",
    "\n",
    "- endpoint: 最後の値にstopを含めるか除外する条件を指定、基本 = True(含む)\n",
    "\n",
    "- retstep : Trueで伝えると(配列,データ間の間隔)のデータが入っているtupleを返却\n",
    "\n",
    "- dtype: 配列のデータタイプを指定, 基本 = None"
   ]
  },
  {
   "cell_type": "code",
   "execution_count": 7,
   "metadata": {},
   "outputs": [
    {
     "name": "stdout",
     "output_type": "stream",
     "text": [
      "\n",
      "    type : <class 'numpy.ndarray'>\n",
      "    shape : (5,)\n",
      "    ndim : 1\n",
      "    dtype : float64\n",
      "    array data :\n",
      " [0.   0.25 0.5  0.75 1.  ]\n"
     ]
    }
   ],
   "source": [
    "# 基本\n",
    "# 0以上1以下の範囲で発生した数字5個を含む配列\n",
    "arr = np.linspace(0, 1, num=5)\n",
    "np_print(arr)"
   ]
  },
  {
   "cell_type": "code",
   "execution_count": 8,
   "metadata": {},
   "outputs": [
    {
     "name": "stdout",
     "output_type": "stream",
     "text": [
      "\n",
      "    type : <class 'numpy.ndarray'>\n",
      "    shape : (5,)\n",
      "    ndim : 1\n",
      "    dtype : float64\n",
      "    array data :\n",
      " [0.  0.2 0.4 0.6 0.8]\n"
     ]
    }
   ],
   "source": [
    "# endpointをFalseに変換(最後の値を含まない)\n",
    "arr = np.linspace(0, 1, num=5, endpoint=False)\n",
    "np_print(arr)"
   ]
  },
  {
   "cell_type": "code",
   "execution_count": 9,
   "metadata": {},
   "outputs": [
    {
     "name": "stdout",
     "output_type": "stream",
     "text": [
      "(array([0.  , 0.25, 0.5 , 0.75, 1.  ]), 0.25)\n",
      "\n",
      "    type : <class 'numpy.ndarray'>\n",
      "    shape : (5,)\n",
      "    ndim : 1\n",
      "    dtype : float64\n",
      "    array data :\n",
      " [0.   0.25 0.5  0.75 1.  ]\n"
     ]
    }
   ],
   "source": [
    "# retstep設定 => 返却値 tupleで返却 => (配列オブジェクト,間隔値)\n",
    "arr = np.linspace(0, 1, num=5, retstep=True)\n",
    "print(arr)\n",
    "np_print(arr[0])"
   ]
  },
  {
   "cell_type": "markdown",
   "metadata": {},
   "source": [
    "#### 2-1.np.arange(start=0、stop、step=1、dtype=None)\n",
    "\n",
    "- スタート値(start)から最後の値(stop)の間の範囲で指定した間隔(step)で一定個数(num)のデータを持つ配列生成\n",
    "- Python 内蔵関数のrange()関数と似ている.\n",
    "- start:開始値、基本=0\n",
    "- stop:最後の値として範囲に含まれない.\n",
    "- step:データの間の間隔、基本=1\n",
    "- dtype: 配列のデータタイプを指定, 基本 = None"
   ]
  },
  {
   "cell_type": "code",
   "execution_count": 10,
   "metadata": {},
   "outputs": [
    {
     "data": {
      "text/plain": [
       "[0, 1, 2, 3, 4]"
      ]
     },
     "execution_count": 10,
     "metadata": {},
     "output_type": "execute_result"
    }
   ],
   "source": [
    "list(range(5))"
   ]
  },
  {
   "cell_type": "code",
   "execution_count": 11,
   "metadata": {},
   "outputs": [
    {
     "name": "stdout",
     "output_type": "stream",
     "text": [
      "\n",
      "    type : <class 'numpy.ndarray'>\n",
      "    shape : (5,)\n",
      "    ndim : 1\n",
      "    dtype : int32\n",
      "    array data :\n",
      " [0 1 2 3 4]\n"
     ]
    }
   ],
   "source": [
    "# 基本\n",
    "# 0以上5未満の範囲で1ずつ増加する数字(整数)を持つ配列\n",
    "arr = np.arange(5)\n",
    "np_print(arr)"
   ]
  },
  {
   "cell_type": "code",
   "execution_count": 12,
   "metadata": {},
   "outputs": [
    {
     "name": "stdout",
     "output_type": "stream",
     "text": [
      "\n",
      "    type : <class 'numpy.ndarray'>\n",
      "    shape : (10,)\n",
      "    ndim : 1\n",
      "    dtype : float64\n",
      "    array data :\n",
      " [0.  0.5 1.  1.5 2.  2.5 3.  3.5 4.  4.5]\n"
     ]
    }
   ],
   "source": [
    "# 最初、最後、間隔\n",
    "# 0以上5未満の範囲で0.5ずつ増加する数字を持つ配列\n",
    "arr = np.arange(0, 5, 0.5)\n",
    "np_print(arr)"
   ]
  },
  {
   "cell_type": "code",
   "execution_count": 13,
   "metadata": {},
   "outputs": [
    {
     "name": "stdout",
     "output_type": "stream",
     "text": [
      "\n",
      "    type : <class 'numpy.ndarray'>\n",
      "    shape : (4,)\n",
      "    ndim : 1\n",
      "    dtype : int32\n",
      "    array data :\n",
      " [1 2 3 4]\n",
      "\n",
      "    type : <class 'numpy.ndarray'>\n",
      "    shape : (1, 4)\n",
      "    ndim : 2\n",
      "    dtype : int32\n",
      "    array data :\n",
      " [[1 2 3 4]]\n"
     ]
    }
   ],
   "source": [
    "# arange() 함수로 생성된 배열은 shape(1, 5)인 배열은 동일해 보이지만 shape와 dimension이 서로 다르다.\n",
    "arr = np.arange(1, 5)\n",
    "np_print(arr)\n",
    "\n",
    "arr2 = arr.reshape(1, 4)\n",
    "np_print(arr2)"
   ]
  },
  {
   "cell_type": "markdown",
   "metadata": {},
   "source": [
    "#### 2-3.np.logspace(start、stop、num=50、endpoint=True、dtype=None)\n",
    "\n",
    "- 最初の値(start)から最後の値(stop)の間のログスケールに指定された範囲で均等な間隔で一定個数(num)のデータを持つ配列生成\n",
    "\n",
    "- num:データの数、基本=50\n",
    "\n",
    "- endpoint: 最後の値にstopを含んだり除外したりする条件指定, 基本 = True(含む)\n",
    "\n",
    "- dtype: 配列のデータタイプを指定, 基本 = None"
   ]
  },
  {
   "cell_type": "code",
   "execution_count": 14,
   "metadata": {},
   "outputs": [
    {
     "name": "stdout",
     "output_type": "stream",
     "text": [
      "\n",
      "    type : <class 'numpy.ndarray'>\n",
      "    shape : (50,)\n",
      "    ndim : 1\n",
      "    dtype : float64\n",
      "    array data :\n",
      " [ 1.          1.04811313  1.09854114  1.1513954   1.20679264  1.26485522\n",
      "  1.32571137  1.38949549  1.45634848  1.52641797  1.59985872  1.67683294\n",
      "  1.75751062  1.84206997  1.93069773  2.02358965  2.12095089  2.22299648\n",
      "  2.32995181  2.44205309  2.55954792  2.6826958   2.8117687   2.9470517\n",
      "  3.0888436   3.23745754  3.39322177  3.55648031  3.72759372  3.90693994\n",
      "  4.09491506  4.29193426  4.49843267  4.71486636  4.94171336  5.17947468\n",
      "  5.42867544  5.68986603  5.96362332  6.25055193  6.55128557  6.86648845\n",
      "  7.19685673  7.54312006  7.90604321  8.28642773  8.68511374  9.10298178\n",
      "  9.54095476 10.        ]\n"
     ]
    }
   ],
   "source": [
    "# 基本\n",
    "# 0以上1以下の範囲でログスケールを適用した値(50個)を持つ配列\n",
    "# 数が10のログを基準にしてくれる\n",
    "arr = np.logspace(0, 1)\n",
    "np_print(arr)"
   ]
  },
  {
   "cell_type": "code",
   "execution_count": 15,
   "metadata": {},
   "outputs": [
    {
     "name": "stdout",
     "output_type": "stream",
     "text": [
      "\n",
      "    type : <class 'numpy.ndarray'>\n",
      "    shape : (40,)\n",
      "    ndim : 1\n",
      "    dtype : float64\n",
      "    array data :\n",
      " [ 1.          1.06081836  1.12533558  1.19377664  1.26638017  1.34339933\n",
      "  1.42510267  1.51177507  1.60371874  1.70125428  1.80472177  1.91448198\n",
      "  2.03091762  2.15443469  2.28546386  2.42446202  2.57191381  2.72833338\n",
      "  2.89426612  3.07029063  3.25702066  3.45510729  3.66524124  3.88815518\n",
      "  4.12462638  4.37547938  4.64158883  4.92388263  5.22334507  5.54102033\n",
      "  5.87801607  6.23550734  6.61474064  7.01703829  7.44380301  7.89652287\n",
      "  8.3767764   8.88623816  9.42668455 10.        ]\n"
     ]
    }
   ],
   "source": [
    "arr = np.logspace(0, 1, 40)\n",
    "np_print(arr)"
   ]
  },
  {
   "cell_type": "code",
   "execution_count": 17,
   "metadata": {},
   "outputs": [
    {
     "name": "stdout",
     "output_type": "stream",
     "text": [
      "\n",
      "    type : <class 'numpy.ndarray'>\n",
      "    shape : (40,)\n",
      "    ndim : 1\n",
      "    dtype : float64\n",
      "    array data :\n",
      " [1.         1.05925373 1.12201845 1.18850223 1.25892541 1.33352143\n",
      " 1.41253754 1.49623566 1.58489319 1.67880402 1.77827941 1.88364909\n",
      " 1.99526231 2.11348904 2.23872114 2.37137371 2.51188643 2.66072506\n",
      " 2.81838293 2.98538262 3.16227766 3.34965439 3.54813389 3.75837404\n",
      " 3.98107171 4.21696503 4.46683592 4.73151259 5.01187234 5.30884444\n",
      " 5.62341325 5.95662144 6.30957344 6.68343918 7.07945784 7.49894209\n",
      " 7.94328235 8.41395142 8.91250938 9.44060876]\n"
     ]
    }
   ],
   "source": [
    "# endpoint 設定\n",
    "arr = np.logspace(0, 1, 40, endpoint=False)\n",
    "np_print(arr)"
   ]
  },
  {
   "cell_type": "markdown",
   "metadata": {},
   "source": [
    "### Ⅱ. 配列生成と初期化\n",
    "\n",
    "3. 乱数(特定の手順や規則を持たない無作為の数)をデータに持つ配列を生成\n",
    "    - np.random.normal()\n",
    "\n",
    "    - np.random.rand()\n",
    "\n",
    "    - np.random.randn()\n",
    "\n",
    "    -np.random.randint()\n",
    "\n",
    "    - np.random.random()\n",
    "\n",
    "#### 3-1.np.random.normal(loc=0.0、scale=1.0、size=None)\n",
    "\n",
    "- 正規分布確率密度から標本を抽出してデータに持つ配列を生成\n",
    "\n",
    "- loc:正規分布の平均、基本=0.0\n",
    "\n",
    "- scale:正規分布の標準偏差、基本=1.0\n",
    "\n",
    "- size:(行列、次元)の配列構造、基本 = single value(配列ではない一つの値を返却)\n"
   ]
  },
  {
   "cell_type": "code",
   "execution_count": 20,
   "metadata": {},
   "outputs": [
    {
     "data": {
      "text/plain": [
       "0.38657027218180634"
      ]
     },
     "execution_count": 20,
     "metadata": {},
     "output_type": "execute_result"
    }
   ],
   "source": [
    "# 基本\n",
    "v = np.random.normal(0, 1)\n",
    "v"
   ]
  },
  {
   "cell_type": "code",
   "execution_count": 21,
   "metadata": {},
   "outputs": [
    {
     "name": "stdout",
     "output_type": "stream",
     "text": [
      "\n",
      "    type : <class 'numpy.ndarray'>\n",
      "    shape : (2, 3)\n",
      "    ndim : 2\n",
      "    dtype : float64\n",
      "    array data :\n",
      " [[ 1.18029895  0.22101358  0.49666482]\n",
      " [ 0.34026648  1.10181915 -0.01326805]]\n"
     ]
    }
   ],
   "source": [
    "arr = np.random.normal(0, 1, size=(2, 3))\n",
    "np_print(arr)"
   ]
  },
  {
   "cell_type": "code",
   "execution_count": 22,
   "metadata": {},
   "outputs": [
    {
     "data": {
      "text/plain": [
       "array([12.2315241 ,  6.06051486, 10.27357719, ..., 10.73400442,\n",
       "        8.24210508, 10.07456429])"
      ]
     },
     "execution_count": 22,
     "metadata": {},
     "output_type": "execute_result"
    }
   ],
   "source": [
    "# 正規分布データからなる配列に対する視覚化\n",
    "# 平均10、標準偏差2の標準正規分布から抽出した10000個のデータについて\n",
    "data = np.random.normal(10, 2, 10000)\n",
    "data"
   ]
  },
  {
   "cell_type": "code",
   "execution_count": 23,
   "metadata": {},
   "outputs": [],
   "source": [
    "# 100個の区間に区分した分布\n",
    "import matplotlib.pyplot as plt # 視覚化ライブラリ"
   ]
  },
  {
   "cell_type": "code",
   "execution_count": 24,
   "metadata": {},
   "outputs": [
    {
     "data": {
      "image/png": "[encoded data removed]",
      "text/plain": [
       "<Figure size 432x288 with 1 Axes>"
      ]
     },
     "metadata": {
      "needs_background": "light"
     },
     "output_type": "display_data"
    }
   ],
   "source": [
    "plt.hist(data, bins=100) # bins : 区間の数 => binsが大きくなると棒の幅が小さくなる(細密)\n",
    "plt.show()"
   ]
  },
  {
   "cell_type": "markdown",
   "metadata": {},
   "source": [
    "#### 3-2.np.random.rand(d0、d1、…、dn)\n",
    "\n",
    "- 指定したshape(d0、d1...)によって配列を生成した後で、乱数で初期化\n",
    "\n",
    "- 使用される乱数は0以上1未満の範囲で一様分布に抽出"
   ]
  },
  {
   "cell_type": "code",
   "execution_count": 25,
   "metadata": {},
   "outputs": [
    {
     "name": "stdout",
     "output_type": "stream",
     "text": [
      "\n",
      "    type : <class 'numpy.ndarray'>\n",
      "    shape : (2, 3)\n",
      "    ndim : 2\n",
      "    dtype : float64\n",
      "    array data :\n",
      " [[0.8060415  0.26581942 0.10232596]\n",
      " [0.12727174 0.97899155 0.86193321]]\n"
     ]
    }
   ],
   "source": [
    "arr = np.random.rand(2, 3)\n",
    "np_print(arr)"
   ]
  },
  {
   "cell_type": "code",
   "execution_count": 26,
   "metadata": {},
   "outputs": [
    {
     "data": {
      "image/png": "[encoded data removed]",
      "text/plain": [
       "<Figure size 432x288 with 1 Axes>"
      ]
     },
     "metadata": {
      "needs_background": "light"
     },
     "output_type": "display_data"
    }
   ],
   "source": [
    "# 均等分布データからなる配列の視覚化\n",
    "# 10000個のデータになった配列を10区間に区分した分布\n",
    "data = np.random.rand(10000)\n",
    "plt.hist(data, bins=10)\n",
    "plt.show()"
   ]
  },
  {
   "cell_type": "markdown",
   "metadata": {},
   "source": [
    "#### 3-3.np.random.randn(d0、d1、…、dn)\n",
    "\n",
    "- 指定したshape(d0、d1...)によって配列を生成した後で、乱数で初期化\n",
    "\n",
    "- 使用される乱数は標準正規分布から抽出されたデータ"
   ]
  },
  {
   "cell_type": "code",
   "execution_count": 27,
   "metadata": {},
   "outputs": [
    {
     "name": "stdout",
     "output_type": "stream",
     "text": [
      "\n",
      "    type : <class 'numpy.ndarray'>\n",
      "    shape : (2, 4)\n",
      "    ndim : 2\n",
      "    dtype : float64\n",
      "    array data :\n",
      " [[-0.3225806  -0.19592294  0.21494891  0.71037916]\n",
      " [ 0.33079152 -0.5086828   0.44221564 -1.29758084]]\n"
     ]
    }
   ],
   "source": [
    "arr = np.random.randn(2, 4)\n",
    "np_print(arr)"
   ]
  },
  {
   "cell_type": "code",
   "execution_count": 28,
   "metadata": {},
   "outputs": [
    {
     "data": {
      "image/png": "[encoded data removed]",
      "text/plain": [
       "<Figure size 432x288 with 1 Axes>"
      ]
     },
     "metadata": {
      "needs_background": "light"
     },
     "output_type": "display_data"
    }
   ],
   "source": [
    "# 正規分布データからなる配列に対する視覚化\n",
    "# 平均0、標準偏差1の標準正規分布から抽出した10000個のデータについて100個の区間に区分した分布\n",
    "data = np.random.randn(10000)\n",
    "plt.hist(data, bins=100)\n",
    "plt.show()"
   ]
  },
  {
   "cell_type": "markdown",
   "metadata": {},
   "source": [
    "#### 3-4.np.random.randint(low、high=None、size=None、dtype='l')\n",
    "\n",
    "- low超過high未満の範囲で整数で構成されたデータを持って指定したsizeの配列を生成\n",
    "\n",
    "- low : high値が指定されなければlow値が最大値(含まず)に設定\n",
    "\n",
    "- high: 最大値(含まず), デフォルト = None\n",
    "\n",
    "- size: 配列の構造, 基本 = None (配列ではなく一つの値に返却)"
   ]
  },
  {
   "cell_type": "code",
   "execution_count": 29,
   "metadata": {},
   "outputs": [
    {
     "data": {
      "text/plain": [
       "0"
      ]
     },
     "execution_count": 29,
     "metadata": {},
     "output_type": "execute_result"
    }
   ],
   "source": [
    "# 1未満の定数10個を抽出\n",
    "a = np.random.randint(1)\n",
    "a"
   ]
  },
  {
   "cell_type": "code",
   "execution_count": 30,
   "metadata": {},
   "outputs": [
    {
     "name": "stdout",
     "output_type": "stream",
     "text": [
      "\n",
      "    type : <class 'numpy.ndarray'>\n",
      "    shape : (10,)\n",
      "    ndim : 1\n",
      "    dtype : int32\n",
      "    array data :\n",
      " [0 0 0 0 0 0 0 0 0 0]\n"
     ]
    }
   ],
   "source": [
    "# 1未満の定数10個を抽出\n",
    "arr = np.random.randint(1, size=10)\n",
    "np_print(arr)"
   ]
  },
  {
   "cell_type": "code",
   "execution_count": 31,
   "metadata": {},
   "outputs": [
    {
     "name": "stdout",
     "output_type": "stream",
     "text": [
      "\n",
      "    type : <class 'numpy.ndarray'>\n",
      "    shape : (10,)\n",
      "    ndim : 1\n",
      "    dtype : int32\n",
      "    array data :\n",
      " [1 2 1 2 0 2 1 2 0 1]\n"
     ]
    }
   ],
   "source": [
    "# 3未満の定数10個を抽出\n",
    "arr = np.random.randint(3, size=10)\n",
    "np_print(arr)"
   ]
  },
  {
   "cell_type": "code",
   "execution_count": 32,
   "metadata": {},
   "outputs": [
    {
     "name": "stdout",
     "output_type": "stream",
     "text": [
      "\n",
      "    type : <class 'numpy.ndarray'>\n",
      "    shape : (2, 4)\n",
      "    ndim : 2\n",
      "    dtype : int32\n",
      "    array data :\n",
      " [[3 6 8 8]\n",
      " [6 5 9 6]]\n"
     ]
    }
   ],
   "source": [
    "# 3超過10未満の整数で構成された2(縦の長さ2、row 2個)4(横の長さ4、column 4個)配列\n",
    "arr = np.random.randint(3, 10, size=(2, 4))\n",
    "np_print(arr)"
   ]
  },
  {
   "cell_type": "code",
   "execution_count": 33,
   "metadata": {},
   "outputs": [
    {
     "data": {
      "text/plain": [
       "(array([2016., 2047., 1969., 2001., 1967.]),\n",
       " array([-100. ,  -60.2,  -20.4,   19.4,   59.2,   99. ]),\n",
       " <a list of 5 Patch objects>)"
      ]
     },
     "execution_count": 33,
     "metadata": {},
     "output_type": "execute_result"
    },
    {
     "data": {
      "image/png": "[encoded data removed]",
      "text/plain": [
       "<Figure size 432x288 with 1 Axes>"
      ]
     },
     "metadata": {
      "needs_background": "light"
     },
     "output_type": "display_data"
    }
   ],
   "source": [
    "# 均等分布の配列に対する視覚化\n",
    "# -100で100の範囲で抽出した10000個のデータについて5つの区間に区分した分布\n",
    "data = np.random.randint(-100, 100, 10000)\n",
    "plt.hist(data, bins=5)"
   ]
  },
  {
   "cell_type": "markdown",
   "metadata": {},
   "source": [
    "## ※乱数 = 無作為の数字\n",
    "\n",
    "- プログラミングから抽出される乱数は無作為に作られたように見えるが実際には固定された基準(始点)を持って規則的に生成\n",
    "- スタート部分を設定すれば同一の乱数を同様に生成可能\n",
    "- 乱数のスタート部分設定 : np.random.seed()"
   ]
  },
  {
   "cell_type": "code",
   "execution_count": 34,
   "metadata": {},
   "outputs": [],
   "source": [
    "#スタート部分を設定して乱数発生させる\n",
    "# seed : 100\n",
    "np.random.seed(100)"
   ]
  },
  {
   "cell_type": "code",
   "execution_count": 40,
   "metadata": {},
   "outputs": [
    {
     "data": {
      "text/plain": [
       "array([[0.70835808, 0.2618501 , 0.58007223],\n",
       "       [0.91342522, 0.10698432, 0.90107223],\n",
       "       [0.88343023, 0.59056634, 0.27285323]])"
      ]
     },
     "execution_count": 40,
     "metadata": {},
     "output_type": "execute_result"
    }
   ],
   "source": [
    "#0以上1未満の範囲(固定範囲)で3*3の乱数を生成\n",
    "np.random.random((3, 3))"
   ]
  },
  {
   "cell_type": "code",
   "execution_count": 41,
   "metadata": {},
   "outputs": [
    {
     "data": {
      "text/plain": [
       "array([[3, 2],\n",
       "       [2, 1]])"
      ]
     },
     "execution_count": 41,
     "metadata": {},
     "output_type": "execute_result"
    }
   ],
   "source": [
    "# 0以上5未満の範囲(指定範囲)で定数の値を持つ2*2列の乱数を生成\n",
    "np.random.randint(0, 5, (2, 2))"
   ]
  },
  {
   "cell_type": "code",
   "execution_count": 42,
   "metadata": {},
   "outputs": [],
   "source": [
    "# スタート部分を初期化\n",
    "# np.random.seed()を空にして実行すると初期化される。\n",
    "np.random.seed()"
   ]
  },
  {
   "cell_type": "code",
   "execution_count": 43,
   "metadata": {},
   "outputs": [
    {
     "data": {
      "text/plain": [
       "array([[0.5489802 , 0.22003017, 0.06578797],\n",
       "       [0.60188109, 0.16684563, 0.84449855],\n",
       "       [0.88964827, 0.82569616, 0.47806206]])"
      ]
     },
     "execution_count": 43,
     "metadata": {},
     "output_type": "execute_result"
    }
   ],
   "source": [
    "np.random.random((3, 3))"
   ]
  }
 ],
 "metadata": {
  "kernelspec": {
   "display_name": "Python 3",
   "language": "python",
   "name": "python3"
  },
  "language_info": {
   "codemirror_mode": {
    "name": "ipython",
    "version": 3
   },
   "file_extension": ".py",
   "mimetype": "text/x-python",
   "name": "python",
   "nbconvert_exporter": "python",
   "pygments_lexer": "ipython3",
   "version": "3.7.3"
  }
 },
 "nbformat": 4,
 "nbformat_minor": 2
}
