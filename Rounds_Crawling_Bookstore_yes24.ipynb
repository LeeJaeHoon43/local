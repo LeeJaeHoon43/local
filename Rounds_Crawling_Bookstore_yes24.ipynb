{
 "cells": [
  {
   "cell_type": "code",
   "execution_count": 1,
   "metadata": {},
   "outputs": [],
   "source": [
    "# ライブラリインポート\n",
    "from selenium import webdriver\n",
    "from bs4 import BeautifulSoup\n",
    "import time\n",
    "import codecs"
   ]
  },
  {
   "cell_type": "code",
   "execution_count": 3,
   "metadata": {
    "scrolled": true
   },
   "outputs": [],
   "source": [
    "# 繰り返しcrawlerは、一つのページでcrawlerを繰り返し使用する。\n",
    "# したがって、一つのページにcrawlerのlogicを繰り返しの中に入力しなければならない。\n",
    "# これを処理するために、一つのページ内部にすべてのlogicを作成します。\n",
    "\n",
    "# Chromedriverのセッティング\n",
    "driver = webdriver.Chrome(\"C:/Users/dltjs/Data20190921/day3/chromedriver.exe\")\n",
    "f = codecs.open(\"C:/Users/dltjs/Data20190921/day4/result4.txt\", encoding=\"utf-8\", mode='w')\n",
    "rank = 0\n",
    "for i in range(1, 251):\n",
    "    # 書店のベストセラーページに移動\n",
    "    driver.get(\"http://www.yes24.com/24/category/bestseller?CategoryNumber=001&sumgb=06&fetchSize=40&PageNumber=\"+str(i))\n",
    "    time.sleep(3)\n",
    "    \n",
    "    # ソースコードを持ってくる\n",
    "    source = driver.page_source\n",
    "    \n",
    "    # parsing\n",
    "    s1 = BeautifulSoup(source, \"html.parser\")\n",
    "\n",
    "    s_book = s1.find_all(\"td\", class_=\"goodsTxtInfo\")\n",
    "    \n",
    "    for item in s_book:\n",
    "        p = item.find_all(['p', 'div'])\n",
    "        rank += 1\n",
    "        f.write(\"# \"+str(rank)+\"위 책 정보\\r\\n\")\n",
    "        f.write(\"# 제목 : \"+p[0].text.strip() + \"\\r\\n\")\n",
    "        f.write(\"# 저자 : \"+p[1].text.strip().replace(\"\\n\", \"\").replace(\"  \", \"\") + \"\\r\\n\")\n",
    "        f.write(\"# 가격 : \"+p[2].text.strip() + \"\\r\\n\")\n",
    "        f.write(\"=\"*70 + \"\\r\\n\")\n",
    "f.close()\n",
    "driver.close()"
   ]
  },
  {
   "cell_type": "code",
   "execution_count": null,
   "metadata": {},
   "outputs": [],
   "source": []
  },
  {
   "cell_type": "code",
   "execution_count": null,
   "metadata": {},
   "outputs": [],
   "source": []
  }
 ],
 "metadata": {
  "kernelspec": {
   "display_name": "Python 3",
   "language": "python",
   "name": "python3"
  },
  "language_info": {
   "codemirror_mode": {
    "name": "ipython",
    "version": 3
   },
   "file_extension": ".py",
   "mimetype": "text/x-python",
   "name": "python",
   "nbconvert_exporter": "python",
   "pygments_lexer": "ipython3",
   "version": "3.7.3"
  }
 },
 "nbformat": 4,
 "nbformat_minor": 2
}
