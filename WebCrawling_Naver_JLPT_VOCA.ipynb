{
 "cells": [
  {
   "cell_type": "code",
   "execution_count": 1,
   "metadata": {},
   "outputs": [],
   "source": [
    "from selenium import webdriver\n",
    "from bs4 import BeautifulSoup\n",
    "import time\n",
    "import codecs"
   ]
  },
  {
   "cell_type": "code",
   "execution_count": 37,
   "metadata": {},
   "outputs": [],
   "source": [
    "# JLPT N5 \n",
    "driver = webdriver.Chrome(\"C:/Users/dltjs/Data20190921/day3/chromedriver.exe\")\n",
    "f = codecs.open(\"C:/Users/dltjs/Data20190921/day14/JLPT_N5.txt\", encoding=\"utf-8\", mode='w')\n",
    "for i in range(1,36):\n",
    "    # NAVERの日本語単語帳のJLPTのN5単語帳サイトの巡回\n",
    "    driver.get('https://learn.dict.naver.com/m/jpdic/wordbook/jlpt/500701/500702/words.nhn?filterType=0&orderType=2&pageNo='+str(i))\n",
    "    time.sleep(1.5)\n",
    "    \n",
    "    #ソースコードの取り寄せ\n",
    "    source = driver.page_source\n",
    "    \n",
    "    # parsing\n",
    "    s1 = BeautifulSoup(source, \"html.parser\")\n",
    "\n",
    "    n5_site = s1.find_all(\"ul\", class_=\"entryLayer lst_ul\")\n",
    "\n",
    "    for n5 in n5_site:\n",
    "        for dan in n5.find_all(\"li\"):\n",
    "            f.write(dan.text.replace(\"\\t\",\"\").replace(\"\\n\",\"\").replace(\"   \",\" \").replace(\"미암기\",\"\\n\"*30).strip() + \"\\r\\n\")\n",
    "f.close()\n",
    "driver.close()"
   ]
  },
  {
   "cell_type": "code",
   "execution_count": 32,
   "metadata": {},
   "outputs": [],
   "source": [
    "# JLPT N4 \n",
    "driver = webdriver.Chrome(\"C:/Users/dltjs/Data20190921/day3/chromedriver.exe\")\n",
    "f = codecs.open(\"C:/Users/dltjs/Data20190921/day14/JLPT_N4.txt\", encoding=\"utf-8\", mode='w')\n",
    "for i in range(1,48):\n",
    "    # NAVERの日本語単語帳のJLPTのN4単語帳サイトの巡回\n",
    "    driver.get('https://learn.dict.naver.com/m/jpdic/wordbook/jlpt/500601/500602/words.nhn?filterType=0&orderType=2&pageNo='+str(i))\n",
    "    time.sleep(1.5)\n",
    "    \n",
    "    #ソースコードの取り寄せ\n",
    "    source = driver.page_source\n",
    "    \n",
    "    # parsing\n",
    "    s1 = BeautifulSoup(source, \"html.parser\")\n",
    "\n",
    "    n4_site = s1.find_all(\"ul\", class_=\"entryLayer lst_ul\")\n",
    "\n",
    "    for n4 in n4_site:\n",
    "        for dan in n4.find_all(\"li\"):\n",
    "            f.write(dan.text.replace(\"\\t\",\"\").replace(\"\\n\",\"\").replace(\"   \",\" \").replace(\"미암기\",\"\\n\"*30).strip() + \"\\r\\n\")\n",
    "f.close()\n",
    "driver.close()"
   ]
  },
  {
   "cell_type": "code",
   "execution_count": 34,
   "metadata": {},
   "outputs": [],
   "source": [
    "# JLPT N3\n",
    "driver = webdriver.Chrome(\"C:/Users/dltjs/Data20190921/day3/chromedriver.exe\")\n",
    "f = codecs.open(\"C:/Users/dltjs/Data20190921/day14/JLPT_N3.txt\", encoding=\"utf-8\", mode='w')\n",
    "for i in range(1,73):\n",
    "    # NAVERの日本語単語帳のJLPTのN3単語帳サイトの巡回\n",
    "    driver.get('https://learn.dict.naver.com/m/jpdic/wordbook/jlpt/500501/500502/words.nhn?filterType=0&orderType=2&pageNo='+str(i))\n",
    "    time.sleep(1.5)\n",
    "    \n",
    "    #ソースコードの取り寄せ\n",
    "    source = driver.page_source\n",
    "    \n",
    "    # parsing\n",
    "    s1 = BeautifulSoup(source, \"html.parser\")\n",
    "\n",
    "    n3_site = s1.find_all(\"ul\", class_=\"entryLayer lst_ul\")\n",
    "\n",
    "    for n3 in n3_site:\n",
    "        for dan in n3.find_all(\"li\"):\n",
    "            f.write(dan.text.replace(\"\\t\",\"\").replace(\"\\n\",\"\").replace(\"   \",\" \").replace(\"미암기\",\"\\n\"*30).strip() + \"\\r\\n\")\n",
    "f.close()\n",
    "driver.close()"
   ]
  },
  {
   "cell_type": "code",
   "execution_count": 35,
   "metadata": {},
   "outputs": [],
   "source": [
    "# JLPT N2\n",
    "driver = webdriver.Chrome(\"C:/Users/dltjs/Data20190921/day3/chromedriver.exe\")\n",
    "f = codecs.open(\"C:/Users/dltjs/Data20190921/day14/JLPT_N2.txt\", encoding=\"utf-8\", mode='w')\n",
    "for i in range(1,126):\n",
    "    # NAVERの日本語単語帳のJLPTのN2単語帳サイトの巡回\n",
    "    driver.get('https://learn.dict.naver.com/m/jpdic/wordbook/jlpt/500401/500402/words.nhn?filterType=0&orderType=2&pageNo='+str(i))\n",
    "    time.sleep(1.5)\n",
    "    \n",
    "    #ソースコードの取り寄せ\n",
    "    source = driver.page_source\n",
    "    \n",
    "    # parsing\n",
    "    s1 = BeautifulSoup(source, \"html.parser\")\n",
    "\n",
    "    n2_site = s1.find_all(\"ul\", class_=\"entryLayer lst_ul\")\n",
    "\n",
    "    for n2 in n2_site:\n",
    "        for dan in n2.find_all(\"li\"):\n",
    "            f.write(dan.text.replace(\"\\t\",\"\").replace(\"\\n\",\"\").replace(\"   \",\" \").replace(\"미암기\",\"\\n\"*30).strip() + \"\\r\\n\")\n",
    "f.close()\n",
    "driver.close()"
   ]
  },
  {
   "cell_type": "code",
   "execution_count": 36,
   "metadata": {},
   "outputs": [],
   "source": [
    "# JLPT N1\n",
    "driver = webdriver.Chrome(\"C:/Users/dltjs/Data20190921/day3/chromedriver.exe\")\n",
    "f = codecs.open(\"C:/Users/dltjs/Data20190921/day14/JLPT_N1.txt\", encoding=\"utf-8\", mode='w')\n",
    "for i in range(1,152):\n",
    "    # NAVERの日本語単語帳のJLPTのN1単語帳サイトの巡回\n",
    "    driver.get('https://learn.dict.naver.com/m/jpdic/wordbook/jlpt/500301/500302/words.nhn?filterType=0&orderType=2&pageNo='+str(i))\n",
    "    time.sleep(1.5)\n",
    "    \n",
    "    #ソースコードの取り寄せ\n",
    "    source = driver.page_source\n",
    "    \n",
    "    # parsing\n",
    "    s1 = BeautifulSoup(source, \"html.parser\")\n",
    "\n",
    "    n1_site = s1.find_all(\"ul\", class_=\"entryLayer lst_ul\")\n",
    "\n",
    "    for n1 in n1_site:\n",
    "        for dan in n1.find_all(\"li\"):\n",
    "            f.write(dan.text.replace(\"\\t\",\"\").replace(\"\\n\",\"\").replace(\"   \",\" \").replace(\"미암기\",\"\\n\"*30).strip() + \"\\r\\n\")\n",
    "f.close()\n",
    "driver.close()"
   ]
  }
 ],
 "metadata": {
  "kernelspec": {
   "display_name": "Python 3",
   "language": "python",
   "name": "python3"
  },
  "language_info": {
   "codemirror_mode": {
    "name": "ipython",
    "version": 3
   },
   "file_extension": ".py",
   "mimetype": "text/x-python",
   "name": "python",
   "nbconvert_exporter": "python",
   "pygments_lexer": "ipython3",
   "version": "3.7.3"
  }
 },
 "nbformat": 4,
 "nbformat_minor": 2
}
