{
 "cells": [
  {
   "cell_type": "markdown",
   "metadata": {},
   "source": [
    "# WordCloud GUI\n",
    "\n",
    "- WordCloudはGUI化をする時はtextファイル(+絵ファイル)を指定しなければWordCloudさせることができない。\n",
    "- したがって、ファイル経路を元通りなら、ユーザが直接入力しなければならない。\n",
    "- それでファイル経路をボタンでクリックして受信できるように設計。"
   ]
  },
  {
   "cell_type": "code",
   "execution_count": 1,
   "metadata": {},
   "outputs": [],
   "source": [
    "%matplotlib qt\n",
    "# 必要なライブラリのimport\n",
    "from tkinter import *\n",
    "# ファイル経路を入力してもらうために使用\n",
    "from tkinter.filedialog import *"
   ]
  },
  {
   "cell_type": "code",
   "execution_count": 2,
   "metadata": {},
   "outputs": [],
   "source": [
    "from wordcloud import WordCloud, STOPWORDS\n",
    "import matplotlib.pylab as plt\n",
    "import numpy as np\n",
    "from PIL import Image\n",
    "from konlpy.tag import Twitter\n",
    "import nltk"
   ]
  },
  {
   "cell_type": "code",
   "execution_count": 3,
   "metadata": {},
   "outputs": [],
   "source": [
    "root = Tk()"
   ]
  },
  {
   "cell_type": "code",
   "execution_count": 4,
   "metadata": {},
   "outputs": [],
   "source": [
    "# タイトル(窓の上段に写る名前)を変えること\n",
    "root.title(\"WordCloud GUI\")\n",
    "\n",
    "# 窓のサイズの設定\n",
    "root.configure(width=\"100m\", height=\"60m\")"
   ]
  },
  {
   "cell_type": "code",
   "execution_count": 5,
   "metadata": {
    "scrolled": false
   },
   "outputs": [
    {
     "name": "stderr",
     "output_type": "stream",
     "text": [
      "C:\\Users\\dltjs\\Anaconda3\\lib\\site-packages\\konlpy\\tag\\_okt.py:16: UserWarning: \"Twitter\" has changed to \"Okt\" since KoNLPy v0.4.5.\n",
      "  warn('\"Twitter\" has changed to \"Okt\" since KoNLPy v0.4.5.')\n",
      "C:\\Users\\dltjs\\Anaconda3\\lib\\site-packages\\jpype\\_core.py:210: UserWarning: \n",
      "-------------------------------------------------------------------------------\n",
      "Deprecated: convertStrings was not specified when starting the JVM. The default\n",
      "behavior in JPype will be False starting in JPype 0.8. The recommended setting\n",
      "for new code is convertStrings=False.  The legacy value of True was assumed for\n",
      "this session. If you are a user of an application that reported this warning,\n",
      "please file a ticket with the developer.\n",
      "-------------------------------------------------------------------------------\n",
      "\n",
      "  \"\"\")\n"
     ]
    }
   ],
   "source": [
    "t = Twitter()\n",
    "\n",
    "# 全域変数の追加\n",
    "value = 0"
   ]
  },
  {
   "cell_type": "code",
   "execution_count": 6,
   "metadata": {},
   "outputs": [],
   "source": [
    "def onselect(evt):\n",
    "    w = evt.widget\n",
    "    index = w.curselection()\n",
    "    value = w.get(index)\n",
    "\n",
    "def get_path():\n",
    "    name = askopenfilename()\n",
    "    print(name)\n",
    "    \n",
    "def get_kor():\n",
    "    global value\n",
    "    name = askopenfilename()\n",
    "    worldsoccer = open(name, encoding='utf-8').read()\n",
    "    token = t.nouns(worldsoccer)\n",
    "    count_voca = nltk.Text(token, name=\"단어카운팅\")\n",
    "    count_voca.vocab()\n",
    "    background = np.array(Image.open('stormtrooper.png'))\n",
    "    voca = count_voca.vocab().most_common(500)\n",
    "    font_path = 'c:/Windows/Fonts/malgun.ttf'\n",
    "    ws = WordCloud(font_path=font_path, relative_scaling = 0.2,mask=background,\n",
    "                   background_color=value).generate_from_frequencies(dict(voca))\n",
    "    siz = int(sb1.get())\n",
    "    plt.figure(figsize=(siz, siz))\n",
    "    plt.imshow(ws)\n",
    "    plt.axis(\"off\")\n",
    "    plt.show()\n",
    "    \n",
    "def get_eng():\n",
    "    global value\n",
    "    name = askopenfilename()\n",
    "    starwars = open(name, encoding='utf-8').read()\n",
    "    background = np.array(Image.open('stormtrooper.png'))\n",
    "    stopwords = set(STOPWORDS)\n",
    "    stopwords.add('int')\n",
    "    stopwords.add('ext')\n",
    "    wc = WordCloud(background_color=value, max_words=1000, mask=background,\n",
    "                   stopwords=stopwords, margin=10, random_state=5).generate(starwars)\n",
    "    default_colors = wc.to_array()\n",
    "    siz = int(sb1.get())\n",
    "    plt.figure(figsize=(siz, siz))\n",
    "    plt.imshow(wc, interpolation='bilinear')\n",
    "    plt.axis('off')\n",
    "    plt.show()"
   ]
  },
  {
   "cell_type": "code",
   "execution_count": 7,
   "metadata": {},
   "outputs": [],
   "source": [
    "#ボタン配置\n",
    "bt1 = Button(root, text=\"ファイル経路検索\", command=get_path)\n",
    "bt1.place(x=20, y=20, width=150, height=50)\n",
    "\n",
    "bt2 = Button(root, text=\"韓国語WordCloud\", command=get_kor).place(x=20, y= 100, width=200, height=50)\n",
    "bt3 = Button(root, text=\"英語WordCloud\", command=get_eng).place(x=20, y= 180, width=200, height=50)"
   ]
  },
  {
   "cell_type": "code",
   "execution_count": 8,
   "metadata": {},
   "outputs": [],
   "source": [
    "sb1=Spinbox(root,from_=1,to=20) \n",
    "sb1.place(x=300, y=50, width=100, height=30)"
   ]
  },
  {
   "cell_type": "code",
   "execution_count": 9,
   "metadata": {},
   "outputs": [],
   "source": [
    "Lb1=Label(root, text=\"WordCloudサイズの設定\") \n",
    "Lb1.place(x=260, y=10, width=200, height=30) \n",
    "\n",
    "Lb2=Label(root, text=\"画面の色\") \n",
    "Lb2.place(x=260, y=90, width=200, height=30) "
   ]
  },
  {
   "cell_type": "code",
   "execution_count": 10,
   "metadata": {},
   "outputs": [
    {
     "data": {
      "text/plain": [
       "'1927481597576onselect'"
      ]
     },
     "execution_count": 10,
     "metadata": {},
     "output_type": "execute_result"
    }
   ],
   "source": [
    "L1=Listbox(root)\n",
    "L1.place(x=300, y=120, width=120, height=130)\n",
    "L1.insert(0, \"white\")\n",
    "L1.insert(1, \"blue\")\n",
    "L1.insert(2, \"green\")\n",
    "L1.insert(3, \"gray\")\n",
    "L1.bind('<<ListboxSelect>>', onselect)"
   ]
  },
  {
   "cell_type": "code",
   "execution_count": 11,
   "metadata": {},
   "outputs": [
    {
     "name": "stdout",
     "output_type": "stream",
     "text": [
      "\n"
     ]
    }
   ],
   "source": [
    "root.mainloop()"
   ]
  }
 ],
 "metadata": {
  "kernelspec": {
   "display_name": "Python 3",
   "language": "python",
   "name": "python3"
  },
  "language_info": {
   "codemirror_mode": {
    "name": "ipython",
    "version": 3
   },
   "file_extension": ".py",
   "mimetype": "text/x-python",
   "name": "python",
   "nbconvert_exporter": "python",
   "pygments_lexer": "ipython3",
   "version": "3.7.3"
  }
 },
 "nbformat": 4,
 "nbformat_minor": 2
}
